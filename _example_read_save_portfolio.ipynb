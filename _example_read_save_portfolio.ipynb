{
 "cells": [
  {
   "cell_type": "markdown",
   "id": "c232d60f-eae2-4b6a-ae7d-c2f533797f0e",
   "metadata": {},
   "source": [
    "# Read/Save portfolio"
   ]
  },
  {
   "cell_type": "code",
   "execution_count": 1,
   "id": "1f3c880b-ecb3-40a5-8235-2d324d6bb28a",
   "metadata": {},
   "outputs": [],
   "source": [
    "import edhec_risk_kit as erk\n",
    "import fama_french_import as ff\n",
    "import yahoo_import as yahoo\n",
    "import pandas as pd"
   ]
  },
  {
   "cell_type": "markdown",
   "id": "15140931-4d0a-41c3-b6ed-f24b9ca2cd90",
   "metadata": {},
   "source": [
    "### Save portfolio config"
   ]
  },
  {
   "cell_type": "code",
   "execution_count": 2,
   "id": "66b40336-b9ed-4da6-9fb8-02b4ea32731b",
   "metadata": {},
   "outputs": [],
   "source": [
    "symbols = [\n",
    "    #Amazon\n",
    "    \"AMZN\",\n",
    "    #Google\n",
    "    \"GOOGL\",\n",
    "    #Microsoft\n",
    "    \"MSFT\",\n",
    "    #Facebook,\n",
    "    \"FB\",\n",
    "    #Apple\n",
    "    \"AAPL\",\n",
    "    #Taiwan Semiconductors\n",
    "    \"TSM\",\n",
    "    #Intel\n",
    "    \"INTC\",\n",
    "    #Qualcom\n",
    "    \"QCOM\",\n",
    "    #Broadcom\n",
    "    \"AVGO\",\n",
    "    #Advanced microdevices\n",
    "    \"AMD\"\n",
    "]"
   ]
  },
  {
   "cell_type": "code",
   "execution_count": 3,
   "id": "768115af-38a8-4926-bf9a-ad587b1f7b69",
   "metadata": {},
   "outputs": [
    {
     "data": {
      "text/html": [
       "<div>\n",
       "<style scoped>\n",
       "    .dataframe tbody tr th:only-of-type {\n",
       "        vertical-align: middle;\n",
       "    }\n",
       "\n",
       "    .dataframe tbody tr th {\n",
       "        vertical-align: top;\n",
       "    }\n",
       "\n",
       "    .dataframe thead th {\n",
       "        text-align: right;\n",
       "    }\n",
       "</style>\n",
       "<table border=\"1\" class=\"dataframe\">\n",
       "  <thead>\n",
       "    <tr style=\"text-align: right;\">\n",
       "      <th></th>\n",
       "      <th>weights</th>\n",
       "    </tr>\n",
       "  </thead>\n",
       "  <tbody>\n",
       "    <tr>\n",
       "      <th>AMZN</th>\n",
       "      <td>0.1</td>\n",
       "    </tr>\n",
       "    <tr>\n",
       "      <th>GOOGL</th>\n",
       "      <td>0.1</td>\n",
       "    </tr>\n",
       "    <tr>\n",
       "      <th>MSFT</th>\n",
       "      <td>0.1</td>\n",
       "    </tr>\n",
       "    <tr>\n",
       "      <th>FB</th>\n",
       "      <td>0.1</td>\n",
       "    </tr>\n",
       "    <tr>\n",
       "      <th>AAPL</th>\n",
       "      <td>0.1</td>\n",
       "    </tr>\n",
       "  </tbody>\n",
       "</table>\n",
       "</div>"
      ],
      "text/plain": [
       "       weights\n",
       "AMZN       0.1\n",
       "GOOGL      0.1\n",
       "MSFT       0.1\n",
       "FB         0.1\n",
       "AAPL       0.1"
      ]
     },
     "execution_count": 3,
     "metadata": {},
     "output_type": "execute_result"
    }
   ],
   "source": [
    "df = pd.DataFrame()\n",
    "df.index = symbols\n",
    "df[\"weights\"] = [0.1,0.1,0.1,0.1,0.1,0.1,0.1,0.1,0.1,0.1]\n",
    "df.head()"
   ]
  },
  {
   "cell_type": "markdown",
   "id": "1c56ff1b-cf83-4c1b-8077-43793890247f",
   "metadata": {
    "tags": []
   },
   "source": [
    "### Download portfolio ticker info"
   ]
  },
  {
   "cell_type": "code",
   "execution_count": 4,
   "id": "ddb1658f-dc00-4bb7-836d-5b887f5d8872",
   "metadata": {},
   "outputs": [],
   "source": [
    "yahoo.save_portfolio(df, \"tech_portfolio\")"
   ]
  },
  {
   "cell_type": "code",
   "execution_count": 3,
   "id": "40d773af-1834-4ff4-b620-844e07ef0842",
   "metadata": {},
   "outputs": [],
   "source": [
    "properties = [\"marketCap\"]"
   ]
  },
  {
   "cell_type": "code",
   "execution_count": 4,
   "id": "930cb19c-5114-415e-99ad-570ce1ac43ec",
   "metadata": {},
   "outputs": [
    {
     "name": "stdout",
     "output_type": "stream",
     "text": [
      "downloading symbol AMZN\n",
      "downloading symbol GOOGL\n",
      "downloading symbol MSFT\n",
      "downloading symbol FB\n",
      "downloading symbol AAPL\n",
      "downloading symbol TSM\n",
      "downloading symbol INTC\n",
      "downloading symbol QCOM\n",
      "downloading symbol AVGO\n",
      "downloading symbol AMD\n"
     ]
    }
   ],
   "source": [
    "yahoo.download_portfolio_info(symbols, properties, \"tech_portfolio\")"
   ]
  },
  {
   "cell_type": "code",
   "execution_count": 2,
   "id": "7aafcb0d-bc48-4949-8e5e-1b7423a37051",
   "metadata": {},
   "outputs": [],
   "source": [
    "df = yahoo.read_portfolio_info(\"tech_portfolio\")"
   ]
  },
  {
   "cell_type": "code",
   "execution_count": 3,
   "id": "ca5f28e3-0d61-4a49-9895-1accd292e017",
   "metadata": {},
   "outputs": [
    {
     "data": {
      "text/html": [
       "<div>\n",
       "<style scoped>\n",
       "    .dataframe tbody tr th:only-of-type {\n",
       "        vertical-align: middle;\n",
       "    }\n",
       "\n",
       "    .dataframe tbody tr th {\n",
       "        vertical-align: top;\n",
       "    }\n",
       "\n",
       "    .dataframe thead th {\n",
       "        text-align: right;\n",
       "    }\n",
       "</style>\n",
       "<table border=\"1\" class=\"dataframe\">\n",
       "  <thead>\n",
       "    <tr style=\"text-align: right;\">\n",
       "      <th></th>\n",
       "      <th>marketCap</th>\n",
       "    </tr>\n",
       "  </thead>\n",
       "  <tbody>\n",
       "    <tr>\n",
       "      <th>AMZN</th>\n",
       "      <td>1603759243264</td>\n",
       "    </tr>\n",
       "    <tr>\n",
       "      <th>GOOGL</th>\n",
       "      <td>1726002102272</td>\n",
       "    </tr>\n",
       "    <tr>\n",
       "      <th>MSFT</th>\n",
       "      <td>2142026596352</td>\n",
       "    </tr>\n",
       "    <tr>\n",
       "      <th>FB</th>\n",
       "      <td>604504260608</td>\n",
       "    </tr>\n",
       "    <tr>\n",
       "      <th>AAPL</th>\n",
       "      <td>2746431307776</td>\n",
       "    </tr>\n",
       "  </tbody>\n",
       "</table>\n",
       "</div>"
      ],
      "text/plain": [
       "           marketCap\n",
       "AMZN   1603759243264\n",
       "GOOGL  1726002102272\n",
       "MSFT   2142026596352\n",
       "FB      604504260608\n",
       "AAPL   2746431307776"
      ]
     },
     "execution_count": 3,
     "metadata": {},
     "output_type": "execute_result"
    }
   ],
   "source": [
    "df.head()"
   ]
  },
  {
   "cell_type": "markdown",
   "id": "4f77c456-be6a-43b9-83fb-e4a2b49ecac7",
   "metadata": {},
   "source": [
    "### Read saved porfolio and associated ticker info"
   ]
  },
  {
   "cell_type": "code",
   "execution_count": 2,
   "id": "f1c422d4-eb3f-47a8-a7c2-101f60a7e3e6",
   "metadata": {},
   "outputs": [
    {
     "data": {
      "text/html": [
       "<div>\n",
       "<style scoped>\n",
       "    .dataframe tbody tr th:only-of-type {\n",
       "        vertical-align: middle;\n",
       "    }\n",
       "\n",
       "    .dataframe tbody tr th {\n",
       "        vertical-align: top;\n",
       "    }\n",
       "\n",
       "    .dataframe thead th {\n",
       "        text-align: right;\n",
       "    }\n",
       "</style>\n",
       "<table border=\"1\" class=\"dataframe\">\n",
       "  <thead>\n",
       "    <tr style=\"text-align: right;\">\n",
       "      <th></th>\n",
       "      <th>weights</th>\n",
       "      <th>marketCap</th>\n",
       "    </tr>\n",
       "  </thead>\n",
       "  <tbody>\n",
       "    <tr>\n",
       "      <th>AMZN</th>\n",
       "      <td>0.1</td>\n",
       "      <td>1603759243264</td>\n",
       "    </tr>\n",
       "    <tr>\n",
       "      <th>GOOGL</th>\n",
       "      <td>0.1</td>\n",
       "      <td>1726002102272</td>\n",
       "    </tr>\n",
       "    <tr>\n",
       "      <th>MSFT</th>\n",
       "      <td>0.1</td>\n",
       "      <td>2142026596352</td>\n",
       "    </tr>\n",
       "    <tr>\n",
       "      <th>FB</th>\n",
       "      <td>0.1</td>\n",
       "      <td>604504260608</td>\n",
       "    </tr>\n",
       "    <tr>\n",
       "      <th>AAPL</th>\n",
       "      <td>0.1</td>\n",
       "      <td>2746431307776</td>\n",
       "    </tr>\n",
       "    <tr>\n",
       "      <th>TSM</th>\n",
       "      <td>0.1</td>\n",
       "      <td>515755606016</td>\n",
       "    </tr>\n",
       "    <tr>\n",
       "      <th>INTC</th>\n",
       "      <td>0.1</td>\n",
       "      <td>194931310592</td>\n",
       "    </tr>\n",
       "    <tr>\n",
       "      <th>QCOM</th>\n",
       "      <td>0.1</td>\n",
       "      <td>157976002560</td>\n",
       "    </tr>\n",
       "    <tr>\n",
       "      <th>AVGO</th>\n",
       "      <td>0.1</td>\n",
       "      <td>246741745664</td>\n",
       "    </tr>\n",
       "    <tr>\n",
       "      <th>AMD</th>\n",
       "      <td>0.1</td>\n",
       "      <td>117053636608</td>\n",
       "    </tr>\n",
       "  </tbody>\n",
       "</table>\n",
       "</div>"
      ],
      "text/plain": [
       "       weights      marketCap\n",
       "AMZN       0.1  1603759243264\n",
       "GOOGL      0.1  1726002102272\n",
       "MSFT       0.1  2142026596352\n",
       "FB         0.1   604504260608\n",
       "AAPL       0.1  2746431307776\n",
       "TSM        0.1   515755606016\n",
       "INTC       0.1   194931310592\n",
       "QCOM       0.1   157976002560\n",
       "AVGO       0.1   246741745664\n",
       "AMD        0.1   117053636608"
      ]
     },
     "execution_count": 2,
     "metadata": {},
     "output_type": "execute_result"
    }
   ],
   "source": [
    "yahoo.read_portfolio(\"tech_portfolio\")"
   ]
  },
  {
   "cell_type": "code",
   "execution_count": null,
   "id": "5c5e6a01-1ed4-441f-8342-ff5c56a91603",
   "metadata": {},
   "outputs": [],
   "source": []
  }
 ],
 "metadata": {
  "kernelspec": {
   "display_name": "Python 3 (ipykernel)",
   "language": "python",
   "name": "python3"
  },
  "language_info": {
   "codemirror_mode": {
    "name": "ipython",
    "version": 3
   },
   "file_extension": ".py",
   "mimetype": "text/x-python",
   "name": "python",
   "nbconvert_exporter": "python",
   "pygments_lexer": "ipython3",
   "version": "3.9.7"
  }
 },
 "nbformat": 4,
 "nbformat_minor": 5
}
