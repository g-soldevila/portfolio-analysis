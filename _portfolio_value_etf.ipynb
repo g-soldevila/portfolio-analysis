{
 "cells": [
  {
   "cell_type": "markdown",
   "id": "81c98b7f-5af8-4a9c-81c0-4e5696d78d3c",
   "metadata": {},
   "source": [
    "# Value portfolio"
   ]
  },
  {
   "cell_type": "code",
   "execution_count": 12,
   "id": "da95f88a-c791-42d3-8784-a85acef64b51",
   "metadata": {},
   "outputs": [
    {
     "name": "stdout",
     "output_type": "stream",
     "text": [
      "Downloading symbol ZPRX.DE\n",
      "Downloading symbol IEVL.MI\n",
      "Downloading symbol IMAE.AS\n",
      "Downloading symbol UBUW.AS\n",
      "Downloading symbol IUES.AS\n"
     ]
    }
   ],
   "source": [
    "import yahoo_import as yahoo\n",
    "import pandas as pd\n",
    "\n",
    "symbols_europe = [\n",
    "    #SPDR MSCI Europe Small Cap Val Weighted\n",
    "    \"ZPRX.DE\",\n",
    "    #iShares Edge MSCI Eu Val Factor\n",
    "    \"IEVL.MI\",\n",
    "    #iShares Core MSCI Europe UCITS ETF EUR\n",
    "    \"IMAE.AS\",\n",
    "    #MSCI USA Prime Value UCITS ETF (hedged to EUR)\n",
    "    \"UBUW.AS\",\n",
    "    #iShares S&P 500 EUR Hedged UCITS ETF\n",
    "    \"IUES.AS\" \n",
    "]\n",
    "\n",
    "yahoo.download_portfolio_data(symbols_europe)"
   ]
  },
  {
   "cell_type": "code",
   "execution_count": 10,
   "id": "93fc1ab6-e971-4218-83c2-742bdd4576f8",
   "metadata": {},
   "outputs": [],
   "source": [
    "df_value_europe = pd.DataFrame()\n",
    "df_value_europe.index = symbols_europe\n",
    "\n",
    "yahoo.save_portfolio(df_value_europe, \"value_europe_portfolio\")\n",
    "yahoo.download_portfolio_info(symbols, properties, \"tech_portfolio\")"
   ]
  },
  {
   "cell_type": "code",
   "execution_count": 13,
   "id": "597d97eb-a785-48c1-a583-f466ee121f82",
   "metadata": {},
   "outputs": [
    {
     "name": "stdout",
     "output_type": "stream",
     "text": [
      "Downloading symbol CSPX.AS\n",
      "Downloading symbol ISP6.L\n",
      "Downloading symbol IVE\n",
      "Downloading symbol IJS\n"
     ]
    }
   ],
   "source": [
    "symbols_usa = [\n",
    "    #iShares Core S&P 500 UCITS ETF\n",
    "    \"CSPX.AS\",\n",
    "    #iShares S&P SmallCap 600 UCITS ETF\n",
    "    \"ISP6.L\",\n",
    "    #iShares S&P 500 Value ETF (IVE)\n",
    "    \"IVE\",\n",
    "    #iShares S&P Small-Cap 600 Value ETF (IJS)\n",
    "    \"IJS\"\n",
    "]\n",
    "\n",
    "yahoo.download_portfolio_data(symbols_usa, \"data/yahoo_data\")"
   ]
  },
  {
   "cell_type": "code",
   "execution_count": 6,
   "id": "6bb44b3d-184a-4291-a9c8-ce874eddcf62",
   "metadata": {},
   "outputs": [],
   "source": [
    "df_value_usa = pd.DataFrame()\n",
    "df_value_usa.index = symbols_usa\n",
    "\n",
    "yahoo.save_portfolio(df_value_usa, \"value_usa_portfolio\")"
   ]
  },
  {
   "cell_type": "code",
   "execution_count": null,
   "id": "c11b32f1-07d9-41cd-8f9b-e8dacc07a410",
   "metadata": {},
   "outputs": [],
   "source": []
  }
 ],
 "metadata": {
  "kernelspec": {
   "display_name": "Python 3 (ipykernel)",
   "language": "python",
   "name": "python3"
  },
  "language_info": {
   "codemirror_mode": {
    "name": "ipython",
    "version": 3
   },
   "file_extension": ".py",
   "mimetype": "text/x-python",
   "name": "python",
   "nbconvert_exporter": "python",
   "pygments_lexer": "ipython3",
   "version": "3.9.7"
  }
 },
 "nbformat": 4,
 "nbformat_minor": 5
}
