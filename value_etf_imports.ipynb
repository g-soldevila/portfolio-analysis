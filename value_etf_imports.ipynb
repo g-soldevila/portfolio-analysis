{
 "cells": [
  {
   "cell_type": "markdown",
   "id": "81c98b7f-5af8-4a9c-81c0-4e5696d78d3c",
   "metadata": {},
   "source": [
    "# Download Value ETFs"
   ]
  },
  {
   "cell_type": "code",
   "execution_count": 2,
   "id": "da95f88a-c791-42d3-8784-a85acef64b51",
   "metadata": {},
   "outputs": [
    {
     "name": "stdout",
     "output_type": "stream",
     "text": [
      "Downloading symbol ZPRX\n",
      "Downloading symbol IEVL.MI\n",
      "Downloading symbol IMAE.AS\n"
     ]
    }
   ],
   "source": [
    "import yahoo_import as yahoo\n",
    "\n",
    "symbols_europe = [\n",
    "    #SPDR MSCI Europe Small Cap Val Weighted\n",
    "    \"ZPRX.DE\",\n",
    "    #iShares Edge MSCI Eu Val Factor\n",
    "    \"IEVL.MI\",\n",
    "    #iShares Core MSCI Europe UCITS ETF EUR\n",
    "    \"IMAE.AS\",\n",
    "    #MSCI USA Prime Value UCITS ETF (hedged to EUR)\n",
    "    \"UBUW.AS\",\n",
    "    #iShares S&P 500 EUR Hedged UCITS ETF\n",
    "    \"IUES.AS\" \n",
    "]\n",
    "\n",
    "yahoo.download_portfolio(symbols_europe)"
   ]
  },
  {
   "cell_type": "code",
   "execution_count": 5,
   "id": "597d97eb-a785-48c1-a583-f466ee121f82",
   "metadata": {},
   "outputs": [
    {
     "name": "stdout",
     "output_type": "stream",
     "text": [
      "Downloading symbol CSPX.AS\n",
      "Downloading symbol ISP6.L\n",
      "Downloading symbol IVE\n",
      "Downloading symbol IJS\n"
     ]
    }
   ],
   "source": [
    "symbols_usa = [\n",
    "    #iShares Core S&P 500 UCITS ETF\n",
    "    \"CSPX.AS\",\n",
    "    #iShares S&P SmallCap 600 UCITS ETF\n",
    "    \"ISP6.L\",\n",
    "    #iShares S&P 500 Value ETF (IVE)\n",
    "    \"IVE\",\n",
    "    #iShares S&P Small-Cap 600 Value ETF (IJS)\n",
    "    \"IJS\"\n",
    "]\n",
    "\n",
    "yahoo.download_portfolio(symbols_usa, \"data/yahoo_data\")"
   ]
  }
 ],
 "metadata": {
  "kernelspec": {
   "display_name": "Python 3 (ipykernel)",
   "language": "python",
   "name": "python3"
  },
  "language_info": {
   "codemirror_mode": {
    "name": "ipython",
    "version": 3
   },
   "file_extension": ".py",
   "mimetype": "text/x-python",
   "name": "python",
   "nbconvert_exporter": "python",
   "pygments_lexer": "ipython3",
   "version": "3.9.7"
  }
 },
 "nbformat": 4,
 "nbformat_minor": 5
}
