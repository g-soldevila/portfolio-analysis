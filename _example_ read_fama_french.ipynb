{
 "cells": [
  {
   "cell_type": "markdown",
   "id": "45070476-23a7-4ab5-87ad-a94f7d8c119b",
   "metadata": {},
   "source": [
    "# Read fama french factor data"
   ]
  },
  {
   "cell_type": "code",
   "execution_count": 1,
   "id": "526bc059-7c30-40a2-b4e8-066f7ca91b00",
   "metadata": {},
   "outputs": [
    {
     "data": {
      "text/html": [
       "<div>\n",
       "<style scoped>\n",
       "    .dataframe tbody tr th:only-of-type {\n",
       "        vertical-align: middle;\n",
       "    }\n",
       "\n",
       "    .dataframe tbody tr th {\n",
       "        vertical-align: top;\n",
       "    }\n",
       "\n",
       "    .dataframe thead th {\n",
       "        text-align: right;\n",
       "    }\n",
       "</style>\n",
       "<table border=\"1\" class=\"dataframe\">\n",
       "  <thead>\n",
       "    <tr style=\"text-align: right;\">\n",
       "      <th></th>\n",
       "      <th>Mkt-RF</th>\n",
       "      <th>SMB</th>\n",
       "      <th>HML</th>\n",
       "      <th>RMW</th>\n",
       "      <th>CMA</th>\n",
       "      <th>RF</th>\n",
       "    </tr>\n",
       "    <tr>\n",
       "      <th>Date</th>\n",
       "      <th></th>\n",
       "      <th></th>\n",
       "      <th></th>\n",
       "      <th></th>\n",
       "      <th></th>\n",
       "      <th></th>\n",
       "    </tr>\n",
       "  </thead>\n",
       "  <tbody>\n",
       "    <tr>\n",
       "      <th>1990-07-02</th>\n",
       "      <td>0.0099</td>\n",
       "      <td>0.0000</td>\n",
       "      <td>-0.0056</td>\n",
       "      <td>0.0043</td>\n",
       "      <td>-0.0025</td>\n",
       "      <td>0.0003</td>\n",
       "    </tr>\n",
       "    <tr>\n",
       "      <th>1990-07-03</th>\n",
       "      <td>0.0033</td>\n",
       "      <td>-0.0009</td>\n",
       "      <td>0.0000</td>\n",
       "      <td>0.0002</td>\n",
       "      <td>0.0028</td>\n",
       "      <td>0.0003</td>\n",
       "    </tr>\n",
       "    <tr>\n",
       "      <th>1990-07-04</th>\n",
       "      <td>0.0024</td>\n",
       "      <td>0.0003</td>\n",
       "      <td>-0.0019</td>\n",
       "      <td>-0.0009</td>\n",
       "      <td>0.0023</td>\n",
       "      <td>0.0003</td>\n",
       "    </tr>\n",
       "    <tr>\n",
       "      <th>1990-07-05</th>\n",
       "      <td>-0.0064</td>\n",
       "      <td>0.0022</td>\n",
       "      <td>0.0008</td>\n",
       "      <td>-0.0036</td>\n",
       "      <td>0.0007</td>\n",
       "      <td>0.0003</td>\n",
       "    </tr>\n",
       "    <tr>\n",
       "      <th>1990-07-06</th>\n",
       "      <td>0.0007</td>\n",
       "      <td>-0.0024</td>\n",
       "      <td>0.0013</td>\n",
       "      <td>0.0002</td>\n",
       "      <td>0.0011</td>\n",
       "      <td>0.0003</td>\n",
       "    </tr>\n",
       "  </tbody>\n",
       "</table>\n",
       "</div>"
      ],
      "text/plain": [
       "            Mkt-RF     SMB     HML     RMW     CMA      RF\n",
       "Date                                                      \n",
       "1990-07-02  0.0099  0.0000 -0.0056  0.0043 -0.0025  0.0003\n",
       "1990-07-03  0.0033 -0.0009  0.0000  0.0002  0.0028  0.0003\n",
       "1990-07-04  0.0024  0.0003 -0.0019 -0.0009  0.0023  0.0003\n",
       "1990-07-05 -0.0064  0.0022  0.0008 -0.0036  0.0007  0.0003\n",
       "1990-07-06  0.0007 -0.0024  0.0013  0.0002  0.0011  0.0003"
      ]
     },
     "execution_count": 1,
     "metadata": {},
     "output_type": "execute_result"
    }
   ],
   "source": [
    "import fama_french_import as ff\n",
    "\n",
    "factors = ff.get_ff_factors(\"Europe_5_Factors\", daily=True)\n",
    "factors.head()"
   ]
  },
  {
   "cell_type": "markdown",
   "id": "aaa2eac2-3584-4445-ba6f-ef56d4251bc0",
   "metadata": {},
   "source": [
    "# Update Fama French files"
   ]
  },
  {
   "cell_type": "code",
   "execution_count": 1,
   "id": "48fa38a5-1063-4896-abef-56605de8a2dd",
   "metadata": {},
   "outputs": [
    {
     "name": "stdout",
     "output_type": "stream",
     "text": [
      "Downloading file: http://mba.tuck.dartmouth.edu/pages/faculty/ken.french/ftp/Developed_3_Factors_CSV.zip\n",
      "Downloading file: http://mba.tuck.dartmouth.edu/pages/faculty/ken.french/ftp/North_America_3_Factors_CSV.zip\n",
      "Downloading file: http://mba.tuck.dartmouth.edu/pages/faculty/ken.french/ftp/Europe_3_Factors_CSV.zip\n",
      "Downloading file: http://mba.tuck.dartmouth.edu/pages/faculty/ken.french/ftp/Developed_3_Factors_Daily_CSV.zip\n",
      "Downloading file: http://mba.tuck.dartmouth.edu/pages/faculty/ken.french/ftp/North_America_3_Factors_Daily_CSV.zip\n",
      "Downloading file: http://mba.tuck.dartmouth.edu/pages/faculty/ken.french/ftp/Europe_3_Factors_Daily_CSV.zip\n"
     ]
    }
   ],
   "source": [
    "import fama_french_import as ff\n",
    "\n",
    "names = [\n",
    "    \"Developed_3_Factors\",\n",
    "    \"North_America_3_Factors\",\n",
    "    \"Europe_3_Factors\"\n",
    "]\n",
    "\n",
    "file_urls = ff.get_url_list(names, monthly=True, daily=True)\n",
    "ff.update_files(file_urls)"
   ]
  },
  {
   "cell_type": "code",
   "execution_count": null,
   "id": "7bb78f43-78a2-4e4c-98a1-e99329284e95",
   "metadata": {},
   "outputs": [],
   "source": []
  }
 ],
 "metadata": {
  "interpreter": {
   "hash": "31f2aee4e71d21fbe5cf8b01ff0e069b9275f58929596ceb00d14d90e3e16cd6"
  },
  "kernelspec": {
   "display_name": "Python 3 (ipykernel)",
   "language": "python",
   "name": "python3"
  },
  "language_info": {
   "codemirror_mode": {
    "name": "ipython",
    "version": 3
   },
   "file_extension": ".py",
   "mimetype": "text/x-python",
   "name": "python",
   "nbconvert_exporter": "python",
   "pygments_lexer": "ipython3",
   "version": "3.9.7"
  }
 },
 "nbformat": 4,
 "nbformat_minor": 5
}
