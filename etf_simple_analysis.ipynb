{
 "cells": [
  {
   "cell_type": "markdown",
   "id": "f6f2e80a-b78f-4980-a7f6-77fc0d1654de",
   "metadata": {},
   "source": [
    "# ETF simple analysis"
   ]
  },
  {
   "cell_type": "markdown",
   "id": "3844e90d-a7f7-48a4-9e83-8e2e5d0dacd3",
   "metadata": {},
   "source": [
    "Import and update ETF returns to today"
   ]
  },
  {
   "cell_type": "code",
   "execution_count": 1,
   "id": "2ea57683-3fa7-4bc6-b0cb-cb58dca3555b",
   "metadata": {},
   "outputs": [
    {
     "name": "stdout",
     "output_type": "stream",
     "text": [
      "Downloading symbol ZPRX.DE\n",
      "Downloading symbol IUES.AS\n"
     ]
    }
   ],
   "source": [
    "import yahoo_import as yahoo\n",
    "\n",
    "symbols = [\n",
    "    #SPDR MSCI Europe Small Cap Val Weighted\n",
    "    \"ZPRX.DE\",\n",
    "    #iShares S&P 500 EUR Hedged UCITS ETF\n",
    "    \"IUES.AS\" \n",
    "]\n",
    "\n",
    "yahoo.download_portfolio(symbols)"
   ]
  },
  {
   "cell_type": "code",
   "execution_count": 2,
   "id": "65eebda9-5d92-4fde-b4d3-7a65dafdee87",
   "metadata": {},
   "outputs": [
    {
     "data": {
      "text/html": [
       "<div>\n",
       "<style scoped>\n",
       "    .dataframe tbody tr th:only-of-type {\n",
       "        vertical-align: middle;\n",
       "    }\n",
       "\n",
       "    .dataframe tbody tr th {\n",
       "        vertical-align: top;\n",
       "    }\n",
       "\n",
       "    .dataframe thead th {\n",
       "        text-align: right;\n",
       "    }\n",
       "</style>\n",
       "<table border=\"1\" class=\"dataframe\">\n",
       "  <thead>\n",
       "    <tr style=\"text-align: right;\">\n",
       "      <th></th>\n",
       "      <th>ZPRX.DE</th>\n",
       "      <th>IUES.AS</th>\n",
       "    </tr>\n",
       "    <tr>\n",
       "      <th>Date</th>\n",
       "      <th></th>\n",
       "      <th></th>\n",
       "    </tr>\n",
       "  </thead>\n",
       "  <tbody>\n",
       "    <tr>\n",
       "      <th>2015-02-18</th>\n",
       "      <td>NaN</td>\n",
       "      <td>0.000614</td>\n",
       "    </tr>\n",
       "    <tr>\n",
       "      <th>2015-02-19</th>\n",
       "      <td>-0.000033</td>\n",
       "      <td>0.002074</td>\n",
       "    </tr>\n",
       "    <tr>\n",
       "      <th>2015-02-20</th>\n",
       "      <td>0.005559</td>\n",
       "      <td>-0.002344</td>\n",
       "    </tr>\n",
       "    <tr>\n",
       "      <th>2015-02-23</th>\n",
       "      <td>0.006221</td>\n",
       "      <td>0.006308</td>\n",
       "    </tr>\n",
       "    <tr>\n",
       "      <th>2015-02-24</th>\n",
       "      <td>0.003254</td>\n",
       "      <td>0.003155</td>\n",
       "    </tr>\n",
       "  </tbody>\n",
       "</table>\n",
       "</div>"
      ],
      "text/plain": [
       "             ZPRX.DE   IUES.AS\n",
       "Date                          \n",
       "2015-02-18       NaN  0.000614\n",
       "2015-02-19 -0.000033  0.002074\n",
       "2015-02-20  0.005559 -0.002344\n",
       "2015-02-23  0.006221  0.006308\n",
       "2015-02-24  0.003254  0.003155"
      ]
     },
     "execution_count": 2,
     "metadata": {},
     "output_type": "execute_result"
    }
   ],
   "source": [
    "import yahoo_import as yahoo\n",
    "\n",
    "portfolio_returns = yahoo.read_portfolio([\"ZPRX.DE\", \"IUES.AS\"])\n",
    "portfolio_returns.head()"
   ]
  },
  {
   "cell_type": "code",
   "execution_count": 3,
   "id": "a2d11a00-641f-4ae1-95b3-0b5e834897f8",
   "metadata": {},
   "outputs": [
    {
     "data": {
      "text/plain": [
       "<AxesSubplot:xlabel='Date'>"
      ]
     },
     "execution_count": 3,
     "metadata": {},
     "output_type": "execute_result"
    },
    {
     "data": {
      "image/png": "[encoded data removed]",
      "text/plain": [
       "<Figure size 432x288 with 1 Axes>"
      ]
     },
     "metadata": {
      "needs_background": "light"
     },
     "output_type": "display_data"
    }
   ],
   "source": [
    "import edhec_risk_kit as erk\n",
    "\n",
    "wealth = erk.compound_returns(portfolio_returns, 100)\n",
    "wealth.plot()"
   ]
  },
  {
   "cell_type": "code",
   "execution_count": 4,
   "id": "f19eedad-e8c7-4932-82ba-02a37b173f14",
   "metadata": {},
   "outputs": [
    {
     "data": {
      "text/html": [
       "<div>\n",
       "<style scoped>\n",
       "    .dataframe tbody tr th:only-of-type {\n",
       "        vertical-align: middle;\n",
       "    }\n",
       "\n",
       "    .dataframe tbody tr th {\n",
       "        vertical-align: top;\n",
       "    }\n",
       "\n",
       "    .dataframe thead th {\n",
       "        text-align: right;\n",
       "    }\n",
       "</style>\n",
       "<table border=\"1\" class=\"dataframe\">\n",
       "  <thead>\n",
       "    <tr style=\"text-align: right;\">\n",
       "      <th></th>\n",
       "      <th>ZPRX.DE</th>\n",
       "      <th>IUES.AS</th>\n",
       "    </tr>\n",
       "    <tr>\n",
       "      <th>Date</th>\n",
       "      <th></th>\n",
       "      <th></th>\n",
       "    </tr>\n",
       "  </thead>\n",
       "  <tbody>\n",
       "    <tr>\n",
       "      <th>2015-02-18</th>\n",
       "      <td>NaN</td>\n",
       "      <td>0.000614</td>\n",
       "    </tr>\n",
       "    <tr>\n",
       "      <th>2015-02-19</th>\n",
       "      <td>-0.000033</td>\n",
       "      <td>0.002074</td>\n",
       "    </tr>\n",
       "    <tr>\n",
       "      <th>2015-02-20</th>\n",
       "      <td>0.005559</td>\n",
       "      <td>-0.002344</td>\n",
       "    </tr>\n",
       "    <tr>\n",
       "      <th>2015-02-23</th>\n",
       "      <td>0.006221</td>\n",
       "      <td>0.006308</td>\n",
       "    </tr>\n",
       "    <tr>\n",
       "      <th>2015-02-24</th>\n",
       "      <td>0.003254</td>\n",
       "      <td>0.003155</td>\n",
       "    </tr>\n",
       "  </tbody>\n",
       "</table>\n",
       "</div>"
      ],
      "text/plain": [
       "             ZPRX.DE   IUES.AS\n",
       "Date                          \n",
       "2015-02-18       NaN  0.000614\n",
       "2015-02-19 -0.000033  0.002074\n",
       "2015-02-20  0.005559 -0.002344\n",
       "2015-02-23  0.006221  0.006308\n",
       "2015-02-24  0.003254  0.003155"
      ]
     },
     "execution_count": 4,
     "metadata": {},
     "output_type": "execute_result"
    }
   ],
   "source": [
    "import edhec_risk_kit as erk\n",
    "import yahoo_import as yahoo\n",
    "\n",
    "portfolio_returns = yahoo.read_portfolio([\"ZPRX.DE\", \"IUES.AS\"])\n",
    "portfolio_returns.head()\n",
    "\n"
   ]
  },
  {
   "cell_type": "code",
   "execution_count": 5,
   "id": "53418910-109a-4770-9872-ae7e7238c9ec",
   "metadata": {},
   "outputs": [],
   "source": [
    "portfolio_returns_monthly = erk.resample_returns(portfolio_returns)"
   ]
  },
  {
   "cell_type": "code",
   "execution_count": null,
   "id": "387d4ff0-023c-4c26-947c-294579d3691d",
   "metadata": {},
   "outputs": [
    {
     "data": {
      "text/plain": [
       "<AxesSubplot:ylabel='Frequency'>"
      ]
     },
     "execution_count": 6,
     "metadata": {},
     "output_type": "execute_result"
    }
   ],
   "source": [
    "portfolio_returns_monthly.plot.hist(bins=100, alpha=0.5)"
   ]
  },
  {
   "cell_type": "code",
   "execution_count": null,
   "id": "94d0ba9f-8043-474a-a86e-4c0f23eda9e5",
   "metadata": {},
   "outputs": [],
   "source": [
    "erk.summary_stats(portfolio_returns_monthly)"
   ]
  },
  {
   "cell_type": "code",
   "execution_count": null,
   "id": "a4a58aae-8a00-4ef0-9be7-617d8a545da1",
   "metadata": {},
   "outputs": [],
   "source": []
  }
 ],
 "metadata": {
  "kernelspec": {
   "display_name": "Python 3 (ipykernel)",
   "language": "python",
   "name": "python3"
  },
  "language_info": {
   "codemirror_mode": {
    "name": "ipython",
    "version": 3
   },
   "file_extension": ".py",
   "mimetype": "text/x-python",
   "name": "python",
   "nbconvert_exporter": "python",
   "pygments_lexer": "ipython3",
   "version": "3.9.7"
  }
 },
 "nbformat": 4,
 "nbformat_minor": 5
}
